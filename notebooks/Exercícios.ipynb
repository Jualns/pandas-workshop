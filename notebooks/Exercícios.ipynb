{
 "cells": [
  {
   "cell_type": "markdown",
   "id": "770a499f-fa07-4ca0-8ddd-c50e76eb0599",
   "metadata": {
    "tags": []
   },
   "source": [
    "# Exercícios\n",
    "\n",
    "Use esse notebook para completar os exercícios durante o workshop.\n",
    "\n",
    "#### Table of Contents\n",
    "- [Seção 1 &ndash; Introdução ao Pandas](#Seção-1)\n",
    "- [Seção 2 &ndash; Tratamento de Dados](#Seção-2)\n",
    "- [Seção 3 &ndash; Vizualização de Dados](#Seção-3)\n",
    "\n",
    "--- \n",
    "\n",
    "### Seção 1\n",
    "\n",
    "#### Exercício 1.1\n",
    "##### Crie um DataFrame lendo o arquivo `2019_Yellow_Taxi_Trip_Data.csv`. Examine as primeiras 5 linhas."
   ]
  },
  {
   "cell_type": "code",
   "execution_count": null,
   "id": "aa449dc1-4c0b-47ce-bba7-061568590d97",
   "metadata": {},
   "outputs": [],
   "source": []
  },
  {
   "cell_type": "markdown",
   "id": "4d52808c-cb6b-4a2b-a183-5c886bbe6b85",
   "metadata": {},
   "source": [
    "#### Exercício 1.2\n",
    "##### Descubra as dimenções (número de linhas e colunas) nos dados."
   ]
  },
  {
   "cell_type": "code",
   "execution_count": null,
   "id": "f4e7275f-4009-4cc9-911d-da92efb79fdd",
   "metadata": {},
   "outputs": [],
   "source": []
  },
  {
   "cell_type": "markdown",
   "id": "b4e9aa37-a244-4e4c-8caa-9d13ca8c7f71",
   "metadata": {
    "tags": []
   },
   "source": [
    "#### Exercício 1.3\n",
    "##### Usando os dados `2019_Yellow_Taxi_Trip_Data.csv`, calcule as estatísticas gerais para as colunas `fare_amount`, `tip_amount`, `tolls_amount`, e `total_amount`."
   ]
  },
  {
   "cell_type": "code",
   "execution_count": null,
   "id": "8577fc58-fd5f-412b-aa2e-50c541c5778b",
   "metadata": {},
   "outputs": [],
   "source": []
  },
  {
   "cell_type": "markdown",
   "id": "4fbf547b-a273-4327-b17a-2c10a58b96bc",
   "metadata": {
    "tags": []
   },
   "source": [
    "#### Exercício 1.4\n",
    "##### Isole `fare_amount`, `tip_amount`, `tolls_amount` e `total_amount` para a viagem mais longa por distância (`trip_distance`)."
   ]
  },
  {
   "cell_type": "code",
   "execution_count": null,
   "id": "dc75ecfc-19b5-438b-b078-eaf7cfc3e7f3",
   "metadata": {},
   "outputs": [],
   "source": []
  }
 ],
 "metadata": {
  "kernelspec": {
   "display_name": "Python 3 (ipykernel)",
   "language": "python",
   "name": "python3"
  },
  "language_info": {
   "codemirror_mode": {
    "name": "ipython",
    "version": 3
   },
   "file_extension": ".py",
   "mimetype": "text/x-python",
   "name": "python",
   "nbconvert_exporter": "python",
   "pygments_lexer": "ipython3",
   "version": "3.10.12"
  }
 },
 "nbformat": 4,
 "nbformat_minor": 5
}
